{
 "cells": [
  {
   "cell_type": "code",
   "execution_count": 78,
   "metadata": {
    "collapsed": false
   },
   "outputs": [
    {
     "name": "stdout",
     "output_type": "stream",
     "text": [
      "\n"
     ]
    }
   ],
   "source": [
    "def sort(a, method='quicksort'):\n",
    "    if method == 'quicksort':\n",
    "        return quicksort(a,0,len(a)-1)\n",
    "    elif method == 'mergesort':\n",
    "        return mergesort(a)\n",
    "    elif method == 'insertion':\n",
    "        return insertion(a)\n",
    "\n",
    "def quicksort(a,start, end):\n",
    "    import random\n",
    "    if start < end:\n",
    "        pivot = random.randint(start,end)\n",
    "        pivotIdx = partition(a, start, end, pivot)\n",
    "        quicksort(a, start, pivotIdx-1)\n",
    "        quicksort(a, pivotIdx+1, end)\n",
    "    return a\n",
    "\n",
    "def partition(a, start, end, pivotIdx):\n",
    "    pivot = a[pivotIdx]\n",
    "    a[pivotIdx], a[end] = a[end], a[pivotIdx]\n",
    "    \n",
    "    k = start;\n",
    "    for i in range(start,end):\n",
    "        if a[i] < pivot:\n",
    "            a[i], a[k] = a[k], a[i]\n",
    "            k += 1\n",
    "\n",
    "    a[end], a[k] = a[k], a[end]\n",
    "    return k\n",
    "\n",
    "def mergesort(a):\n",
    "    if len(a) > 1:\n",
    "        median = len(a)/2\n",
    "        left = a[:median]\n",
    "        right = a[median:]\n",
    "\n",
    "        left = mergesort(left)\n",
    "        right = mergesort(right)\n",
    "        return merge(left, right)\n",
    "    else:\n",
    "        return a\n",
    "\n",
    "def merge(left, right):\n",
    "    a = left + right\n",
    "    i = j = k = 0\n",
    "    while i < len(left) and j < len(right):\n",
    "        if left[i] < right[j]:\n",
    "            a[k] = left[i]\n",
    "            i += 1\n",
    "        else:\n",
    "            a[k] = right[j]\n",
    "            j += 1\n",
    "        k += 1\n",
    "    while i < len(left):\n",
    "        a[k] = left[i]\n",
    "        i += 1\n",
    "        k += 1\n",
    "    while j < len(right):\n",
    "        a[k] = right[j]\n",
    "        j += 1\n",
    "        k += 1\n",
    "    return a\n",
    "\n",
    "def insertion(a):\n",
    "    for i in range(1, len(a)):\n",
    "        j = i\n",
    "        while j > 0 and a[j-1] > a[j]:\n",
    "            a[j], a[j-1] = a[j-1], a[j]\n",
    "            j -= 1        \n",
    "    return a"
   ]
  },
  {
   "cell_type": "code",
   "execution_count": 79,
   "metadata": {
    "collapsed": false
   },
   "outputs": [
    {
     "name": "stdout",
     "output_type": "stream",
     "text": [
      "Input\t\t: [4, 3, 2, 1]\n",
      "Quicksort\t: [1, 2, 3, 4]\n",
      "Mergesort\t: [1, 2, 3, 4]\n",
      "Insertion\t: [1, 2, 3, 4]\n"
     ]
    }
   ],
   "source": [
    "a = [4,3,2,1]\n",
    "print 'Input\\t\\t:', a\n",
    "methods = ['quicksort', 'mergesort', 'insertion']\n",
    "for m in methods:\n",
    "    print m.title() +'\\t:',sort(a,m)"
   ]
  },
  {
   "cell_type": "code",
   "execution_count": null,
   "metadata": {
    "collapsed": true
   },
   "outputs": [],
   "source": []
  }
 ],
 "metadata": {
  "kernelspec": {
   "display_name": "Python 2",
   "language": "python",
   "name": "python2"
  },
  "language_info": {
   "codemirror_mode": {
    "name": "ipython",
    "version": 2
   },
   "file_extension": ".py",
   "mimetype": "text/x-python",
   "name": "python",
   "nbconvert_exporter": "python",
   "pygments_lexer": "ipython2",
   "version": "2.7.12"
  }
 },
 "nbformat": 4,
 "nbformat_minor": 1
}
